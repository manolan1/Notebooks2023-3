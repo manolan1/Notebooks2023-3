{
 "cells": [
  {
   "cell_type": "markdown",
   "metadata": {},
   "source": [
    "# Table-like Operations on *DataFrame*\n",
    "\n",
    "We can treat a *DataFrame* like a table, for example a database table, and perform similar operations to those in SQL."
   ]
  },
  {
   "cell_type": "code",
   "execution_count": null,
   "metadata": {},
   "outputs": [],
   "source": [
    "import numpy as np\n",
    "import pandas as pd"
   ]
  },
  {
   "cell_type": "markdown",
   "metadata": {},
   "source": [
    "## Counting Unique Values"
   ]
  },
  {
   "cell_type": "code",
   "execution_count": null,
   "metadata": {
    "colab": {},
    "colab_type": "code",
    "id": "JyHWoJ4oip3i",
    "scrolled": false
   },
   "outputs": [],
   "source": [
    "df = pd.DataFrame([10, 10, 11, 11, 11, 12, 12, 12, 13, 13, 13, 13, 14], columns=['Age'])\n",
    "print(df['Age'].value_counts())"
   ]
  },
  {
   "cell_type": "code",
   "execution_count": null,
   "metadata": {
    "colab": {},
    "colab_type": "code",
    "id": "ixymtPR1ip31"
   },
   "outputs": [],
   "source": [
    "df = pd.DataFrame([('Male', 10), ('Female', 10), ('Female', 11), ('Male', 11), ('Female', 11), \\\n",
    "                   ('Female', 12), ('Male', 12), ('Male', 12), ('Female', 13), ('Female', 13), \\\n",
    "                   ('Male', 13), ('Female', 13), ('Male', 14)], columns=['Gender', 'Age'])\n",
    "print(df.value_counts())"
   ]
  },
  {
   "cell_type": "markdown",
   "metadata": {},
   "source": [
    "## Group By Aggregation"
   ]
  },
  {
   "cell_type": "code",
   "execution_count": null,
   "metadata": {
    "colab": {},
    "colab_type": "code",
    "id": "ixymtPR1ip31",
    "scrolled": false
   },
   "outputs": [],
   "source": [
    "df.groupby('Gender').count()"
   ]
  },
  {
   "cell_type": "code",
   "execution_count": null,
   "metadata": {
    "scrolled": true
   },
   "outputs": [],
   "source": [
    "df.groupby('Gender').max() # also, for example, min()"
   ]
  },
  {
   "cell_type": "code",
   "execution_count": null,
   "metadata": {
    "scrolled": true
   },
   "outputs": [],
   "source": [
    "df.groupby('Gender').sum() # also, for example, mean(), std()"
   ]
  },
  {
   "cell_type": "code",
   "execution_count": null,
   "metadata": {
    "scrolled": true
   },
   "outputs": [],
   "source": [
    "df = pd.DataFrame([('John', 1000, 2), ('Jane', 1050, 2), ('Samantha', 1000, 3), ('Samuel', 1100, 1), \\\n",
    "                   ('Alexander', 1010, 3), ('Alexandra', 1030, 2), ('Beatrice', 1029, 1)], \\\n",
    "                  columns=['Name', 'Salary', 'Dept'])\n",
    "df"
   ]
  },
  {
   "cell_type": "code",
   "execution_count": null,
   "metadata": {},
   "outputs": [],
   "source": [
    "df.groupby('Dept').sum(numeric_only=True)"
   ]
  },
  {
   "cell_type": "code",
   "execution_count": null,
   "metadata": {},
   "outputs": [],
   "source": [
    "df.groupby('Dept')['Salary'].sum()"
   ]
  },
  {
   "cell_type": "markdown",
   "metadata": {
    "colab_type": "text",
    "id": "eskMhUATip4T"
   },
   "source": [
    "## Concatenate Data"
   ]
  },
  {
   "cell_type": "code",
   "execution_count": null,
   "metadata": {
    "colab": {},
    "colab_type": "code",
    "id": "tLd6Hr-9ip4U",
    "scrolled": false
   },
   "outputs": [],
   "source": [
    "df1 = pd.DataFrame([('Male', 10),('Male', 11), ('Female', 11), ('Female', 12), ('Female', 12)], columns=['Gender', 'Age'])\n",
    "df2 = pd.DataFrame([('Male', 20),('Male', 21), ('Female', 21), ('Female', 22)], columns=['Gender', 'Age'])\n",
    "df = pd.concat([df1, df2])\n",
    "df"
   ]
  },
  {
   "cell_type": "code",
   "execution_count": null,
   "metadata": {},
   "outputs": [],
   "source": [
    "df3 = pd.DataFrame([('John', 'Smith'), ('Fred', 'Perry'), ('Jane', 'Doe'), ('Emmeline', 'Pankhurst')], columns=['First', 'Last'])\n",
    "df = pd.concat([df1, df3], axis = 1)\n",
    "df"
   ]
  },
  {
   "cell_type": "code",
   "execution_count": null,
   "metadata": {},
   "outputs": [],
   "source": [
    "df4 = pd.DataFrame([('Male', 'James', 'Bond')], columns=['Gender', 'First', 'Last'])\n",
    "df5 = pd.concat([df, df4])\n",
    "df5"
   ]
  },
  {
   "cell_type": "markdown",
   "metadata": {
    "colab_type": "text",
    "id": "TYqrzlTXip4X"
   },
   "source": [
    "## Merge or Join DataFrames"
   ]
  },
  {
   "cell_type": "code",
   "execution_count": null,
   "metadata": {
    "colab": {},
    "colab_type": "code",
    "id": "dYs3_7bfip4Z",
    "scrolled": true
   },
   "outputs": [],
   "source": [
    "person_data = {\n",
    "        'id': ['1', '2', '3', '4', '5', '6'],\n",
    "        'first_name': ['Elon', 'Emmeline', 'Fred', 'Charles', 'Alice', 'James'], \n",
    "        'last_name': ['Musk', 'Pankhurst', 'Perry', 'Dickens', 'Liddell', 'Bond']}\n",
    "df1 = pd.DataFrame(person_data, columns = ['id', 'first_name', 'last_name'])\n",
    "\n",
    "fame_data = {\n",
    "    'id' : ['1', '1', '1', '2', '3', '3', '5'],\n",
    "    'known_for' : ['Maverick Billionaire', 'Tesla', 'SpaceX', 'Protesting', 'Tennis', 'Clothing', 'Wonderland']\n",
    "}\n",
    "df2 = pd.DataFrame(fame_data, columns = ['id', 'known_for'])\n",
    "pd.merge(df1, df2, on='id')"
   ]
  },
  {
   "cell_type": "code",
   "execution_count": null,
   "metadata": {},
   "outputs": [],
   "source": [
    "pd.merge(df1, df2, how='left')"
   ]
  },
  {
   "cell_type": "markdown",
   "metadata": {
    "colab_type": "text",
    "id": "CDWOsr-Jip3-"
   },
   "source": [
    "## Null Values"
   ]
  },
  {
   "cell_type": "code",
   "execution_count": null,
   "metadata": {
    "colab": {},
    "colab_type": "code",
    "id": "SSCCCk8tip3_"
   },
   "outputs": [],
   "source": [
    "pd.merge(df1, df2, how='left').isna()"
   ]
  },
  {
   "cell_type": "code",
   "execution_count": null,
   "metadata": {
    "scrolled": true
   },
   "outputs": [],
   "source": [
    "pd.merge(df1, df2, how='left').fillna('unknown')"
   ]
  },
  {
   "cell_type": "code",
   "execution_count": null,
   "metadata": {},
   "outputs": [],
   "source": [
    "pd.merge(df1, df2, how='left').dropna()"
   ]
  },
  {
   "cell_type": "markdown",
   "metadata": {
    "colab_type": "text",
    "id": "l58NxKcMjGws"
   },
   "source": [
    "# End of notebook"
   ]
  }
 ],
 "metadata": {
  "colab": {
   "include_colab_link": true,
   "name": "04-01-DataPreparation.ipynb",
   "provenance": []
  },
  "kernelspec": {
   "display_name": "Python 3 (ipykernel)",
   "language": "python",
   "name": "python3"
  },
  "language_info": {
   "codemirror_mode": {
    "name": "ipython",
    "version": 3
   },
   "file_extension": ".py",
   "mimetype": "text/x-python",
   "name": "python",
   "nbconvert_exporter": "python",
   "pygments_lexer": "ipython3",
   "version": "3.8.16"
  }
 },
 "nbformat": 4,
 "nbformat_minor": 1
}
