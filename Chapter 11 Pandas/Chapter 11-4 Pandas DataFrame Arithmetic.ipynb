{
 "cells": [
  {
   "cell_type": "markdown",
   "metadata": {
    "colab_type": "text",
    "id": "mzD_-g0MdQce"
   },
   "source": [
    "# Arithmetic on a DataFrame\n",
    "\n",
    "Almost all arithmetic is done using numpy arrays and numpy matrices. They are easier to understand and better supported in numpy.\n",
    "\n",
    "The rules for arithmetic with *DataFrame* are similar."
   ]
  },
  {
   "cell_type": "code",
   "execution_count": null,
   "metadata": {
    "colab": {},
    "colab_type": "code",
    "id": "NpiGicyXdQci"
   },
   "outputs": [],
   "source": [
    "import numpy as np\n",
    "import pandas as pd\n",
    "df = pd.DataFrame([(1, 2, 3, 4, 5), (10, 20, 30, 40, 50), (100, 200, 300, 400, 500)])\n",
    "df"
   ]
  },
  {
   "cell_type": "code",
   "execution_count": null,
   "metadata": {
    "colab": {},
    "colab_type": "code",
    "id": "GAX5RM8IdQcq"
   },
   "outputs": [],
   "source": [
    "df / 5"
   ]
  },
  {
   "cell_type": "markdown",
   "metadata": {
    "colab_type": "text",
    "id": "p-5b9Iy7dQct"
   },
   "source": [
    "* For a scalar value, the value is applied to each element of the DataFrame \n",
    "* This is true for `+`, `-`, `*`, `/`, and `**`"
   ]
  },
  {
   "cell_type": "code",
   "execution_count": null,
   "metadata": {},
   "outputs": [],
   "source": [
    "df + 1"
   ]
  },
  {
   "cell_type": "code",
   "execution_count": null,
   "metadata": {
    "colab": {},
    "colab_type": "code",
    "id": "5TwTqYrhdQcu"
   },
   "outputs": [],
   "source": [
    "s1 = pd.Series([1, 2, 3, 4, 5])\n",
    "s1"
   ]
  },
  {
   "cell_type": "code",
   "execution_count": null,
   "metadata": {
    "colab": {},
    "colab_type": "code",
    "id": "zkEwcCqcdQcx",
    "scrolled": true
   },
   "outputs": [],
   "source": [
    "df / s1"
   ]
  },
  {
   "cell_type": "markdown",
   "metadata": {
    "colab_type": "text",
    "id": "Sr-f_YrFdQc0"
   },
   "source": [
    "* The Series, *s*, is applied to each row of the DataFrame, *df*, which the element of the row and the Series matched\n",
    "* This is true for `+`, `-`, `*`, `/`, and `**`\n",
    "* The expression is not communtative"
   ]
  },
  {
   "cell_type": "code",
   "execution_count": null,
   "metadata": {
    "scrolled": true
   },
   "outputs": [],
   "source": [
    "s2 = pd.Series([2, 3, 4], index=[0, 2, 4])\n",
    "s2"
   ]
  },
  {
   "cell_type": "code",
   "execution_count": null,
   "metadata": {
    "scrolled": false
   },
   "outputs": [],
   "source": [
    "df / s2"
   ]
  },
  {
   "cell_type": "markdown",
   "metadata": {},
   "source": [
    "* Matching is done by index\n",
    "* Missing values can be set to a fixed value using `fill_value=<float>`"
   ]
  },
  {
   "cell_type": "code",
   "execution_count": null,
   "metadata": {},
   "outputs": [],
   "source": [
    "s3 = pd.Series([2, 3, 4])\n",
    "s3"
   ]
  },
  {
   "cell_type": "code",
   "execution_count": null,
   "metadata": {},
   "outputs": [],
   "source": [
    "df.div(s3, axis = 0)"
   ]
  },
  {
   "cell_type": "code",
   "execution_count": null,
   "metadata": {
    "colab": {},
    "colab_type": "code",
    "id": "PWnWQV-FdQc3"
   },
   "outputs": [],
   "source": [
    "df2 = pd.DataFrame([(2, 2, 2, 2, 2), (5, 5, 5, 5, 5), (4, 4, 4, 4, 4)])\n",
    "df2"
   ]
  },
  {
   "cell_type": "code",
   "execution_count": null,
   "metadata": {
    "colab": {},
    "colab_type": "code",
    "id": "DKnZkeKFdQc7"
   },
   "outputs": [],
   "source": [
    "df / df2"
   ]
  },
  {
   "cell_type": "markdown",
   "metadata": {
    "colab_type": "text",
    "id": "8VvvxddxdQc_"
   },
   "source": [
    "* The 2 *DataFrame*s must have the same shape\n",
    "* Arithmetic is performed cell-wise"
   ]
  },
  {
   "cell_type": "code",
   "execution_count": null,
   "metadata": {
    "colab": {},
    "colab_type": "code",
    "id": "aN1WPqXZdQdA"
   },
   "outputs": [],
   "source": [
    "df.dot(s1)"
   ]
  },
  {
   "cell_type": "markdown",
   "metadata": {
    "colab_type": "text",
    "id": "y3gdC-UbdQdE"
   },
   "source": [
    "* The result is a single *Series* with one element for each row in the *DataFrame*\n",
    "* The process\n",
    "  - For each row, the corresponding elements of the *Series* are multiplied together. \n",
    "  - Then all the elements of the row are summed and placed as the corresponding element of the result *Series*"
   ]
  },
  {
   "cell_type": "code",
   "execution_count": null,
   "metadata": {},
   "outputs": [],
   "source": [
    "df.columns = ['first', 'second', 'third', 'fourth', 'fifth']\n",
    "df"
   ]
  },
  {
   "cell_type": "code",
   "execution_count": null,
   "metadata": {
    "scrolled": true
   },
   "outputs": [],
   "source": [
    "s4 = df['fifth'] / df['second']\n",
    "s4"
   ]
  },
  {
   "cell_type": "markdown",
   "metadata": {},
   "source": [
    "* We can also do arithmetic with *Series*\n",
    "  - Remember that any column of a *DataFrame* is a *Series*"
   ]
  },
  {
   "cell_type": "code",
   "execution_count": null,
   "metadata": {},
   "outputs": [],
   "source": [
    "df['5th / 2nd'] = s4\n",
    "df"
   ]
  },
  {
   "cell_type": "markdown",
   "metadata": {
    "colab_type": "text",
    "id": "b82YlNGcdQdL"
   },
   "source": [
    "# End of Notebook"
   ]
  }
 ],
 "metadata": {
  "colab": {
   "include_colab_link": true,
   "name": "03-05-Math.ipynb",
   "provenance": []
  },
  "kernelspec": {
   "display_name": "Python 3 (ipykernel)",
   "language": "python",
   "name": "python3"
  },
  "language_info": {
   "codemirror_mode": {
    "name": "ipython",
    "version": 3
   },
   "file_extension": ".py",
   "mimetype": "text/x-python",
   "name": "python",
   "nbconvert_exporter": "python",
   "pygments_lexer": "ipython3",
   "version": "3.8.16"
  }
 },
 "nbformat": 4,
 "nbformat_minor": 1
}
