{
 "cells": [
  {
   "cell_type": "markdown",
   "metadata": {
    "colab_type": "text",
    "id": "kg-GVSascjBv"
   },
   "source": [
    "# DataFrame Attributes and Methods\n",
    "\n",
    "To see all of the available attributes and methods, go to [DataFrame](http://pandas.pydata.org/pandas-docs/stable/reference/api/pandas.DataFrame.html) and search about 10 percent down the page."
   ]
  },
  {
   "cell_type": "code",
   "execution_count": null,
   "metadata": {
    "colab": {},
    "colab_type": "code",
    "id": "4FQm1094cjB1"
   },
   "outputs": [],
   "source": [
    "import numpy as np\n",
    "import pandas as pd\n",
    "df = pd.read_csv(\"./iris-data-column.csv\", header=0)\n",
    "df"
   ]
  },
  {
   "cell_type": "markdown",
   "metadata": {
    "colab_type": "text",
    "id": "uuvRfhGbcjB6"
   },
   "source": [
    "## Attributes\n",
    "Attributes can not be modified.\n",
    "\n",
    "We have already met many of the attributes of *DataFrame* when introducing *ndarray*.\n",
    "\n",
    "Note that the attributes don't have parentheses after them: they are not functions that can be executed."
   ]
  },
  {
   "cell_type": "code",
   "execution_count": null,
   "metadata": {
    "colab": {},
    "colab_type": "code",
    "id": "6iHi0SL3cjCK"
   },
   "outputs": [],
   "source": [
    "df.shape"
   ]
  },
  {
   "cell_type": "markdown",
   "metadata": {
    "colab_type": "text",
    "id": "bG9fR3ctcjCS"
   },
   "source": [
    "* The return is a tuple showing the rows and columns of the data\n",
    "* You can access just the number of columns with `df.shape[1]`"
   ]
  },
  {
   "cell_type": "code",
   "execution_count": null,
   "metadata": {
    "colab": {},
    "colab_type": "code",
    "id": "jumAY3kfcjCX"
   },
   "outputs": [],
   "source": [
    "df.T"
   ]
  },
  {
   "cell_type": "markdown",
   "metadata": {
    "colab_type": "text",
    "id": "rMR_uTr1cjCf"
   },
   "source": [
    "* This transposes the rows and columns"
   ]
  },
  {
   "cell_type": "code",
   "execution_count": null,
   "metadata": {
    "colab": {},
    "colab_type": "code",
    "id": "c6AIS0SqcjCh",
    "scrolled": true
   },
   "outputs": [],
   "source": [
    "df.values"
   ]
  },
  {
   "cell_type": "markdown",
   "metadata": {
    "colab_type": "text",
    "id": "YVwEbFH-cjCo"
   },
   "source": [
    "* This returns a numpy array\n",
    "  - Note that it returns the *lowest common denominator* class, i.e. upcasts\n",
    "  - However, `.to_numpy()` is preferred (see below)"
   ]
  },
  {
   "cell_type": "code",
   "execution_count": null,
   "metadata": {},
   "outputs": [],
   "source": [
    "arr1 = df.drop('Class', axis=1, inplace=False).values\n",
    "print(arr1)\n",
    "print(arr1.dtype)"
   ]
  },
  {
   "cell_type": "code",
   "execution_count": null,
   "metadata": {},
   "outputs": [],
   "source": [
    "print(\"df.ndim =\", df.ndim, \"\\n\")\n",
    "print(\"df.dtypes =\", df.dtypes, \"\\n\")\n",
    "print(\"df.axes =\", df.axes, \"\\n\")\n",
    "print(\"df.empty = \", df.empty)"
   ]
  },
  {
   "cell_type": "markdown",
   "metadata": {},
   "source": [
    "## Statistical Methods"
   ]
  },
  {
   "cell_type": "code",
   "execution_count": null,
   "metadata": {
    "colab": {},
    "colab_type": "code",
    "id": "8LwwD8lncjC5"
   },
   "outputs": [],
   "source": [
    "help(df.mean)"
   ]
  },
  {
   "cell_type": "code",
   "execution_count": null,
   "metadata": {
    "colab": {},
    "colab_type": "code",
    "id": "M6lRB64zcjC8"
   },
   "outputs": [],
   "source": [
    "df.mean(axis=0, numeric_only=True)"
   ]
  },
  {
   "cell_type": "markdown",
   "metadata": {
    "colab_type": "text",
    "id": "QZ85cRLXcjC_"
   },
   "source": [
    "This seems a little counter-intuitive\n",
    "* `axis=0` goes down the column - each row element is done\n",
    "* `axis=1` goes across the column - each row value is done"
   ]
  },
  {
   "cell_type": "code",
   "execution_count": null,
   "metadata": {
    "colab": {},
    "colab_type": "code",
    "id": "U4YZYreycjDA",
    "scrolled": true
   },
   "outputs": [],
   "source": [
    "df.std(axis=0, numeric_only=True)"
   ]
  },
  {
   "cell_type": "markdown",
   "metadata": {
    "colab_type": "text",
    "id": "X70VZI4GcjDE"
   },
   "source": [
    "`axis` behaves in the same way as for `df.mean`"
   ]
  },
  {
   "cell_type": "code",
   "execution_count": null,
   "metadata": {
    "colab": {},
    "colab_type": "code",
    "id": "cQbkiLgZcjDH"
   },
   "outputs": [],
   "source": [
    "df.sum(axis=0, numeric_only=True)"
   ]
  },
  {
   "cell_type": "code",
   "execution_count": null,
   "metadata": {
    "colab": {},
    "colab_type": "code",
    "id": "qRoDwTVIcjDK"
   },
   "outputs": [],
   "source": [
    "df.sum(axis=1, numeric_only=True)"
   ]
  },
  {
   "cell_type": "markdown",
   "metadata": {
    "colab_type": "text",
    "id": "GkytYXP8cjDO"
   },
   "source": [
    "* `.max`, `.min` all work the same way as `.sum`"
   ]
  },
  {
   "cell_type": "code",
   "execution_count": null,
   "metadata": {
    "colab": {},
    "colab_type": "code",
    "id": "Ma86JLCTcjDP"
   },
   "outputs": [],
   "source": [
    "df.describe()"
   ]
  },
  {
   "cell_type": "markdown",
   "metadata": {
    "colab_type": "text",
    "id": "rt6LvlMLcjDS"
   },
   "source": [
    "## Other Methods"
   ]
  },
  {
   "cell_type": "code",
   "execution_count": null,
   "metadata": {
    "colab": {},
    "colab_type": "code",
    "id": "7CiWOf6PcjB7",
    "scrolled": false
   },
   "outputs": [],
   "source": [
    "df.head(n=2)"
   ]
  },
  {
   "cell_type": "markdown",
   "metadata": {
    "colab_type": "text",
    "id": "sPcWzb68cjB_"
   },
   "source": [
    "* The default for n is 10."
   ]
  },
  {
   "cell_type": "code",
   "execution_count": null,
   "metadata": {
    "colab": {},
    "colab_type": "code",
    "id": "YS5Dv2sHcjCA",
    "scrolled": true
   },
   "outputs": [],
   "source": [
    "df.tail(n=2)"
   ]
  },
  {
   "cell_type": "markdown",
   "metadata": {
    "colab_type": "text",
    "id": "9IwdANCOcjCH"
   },
   "source": [
    "* The default is 10"
   ]
  },
  {
   "cell_type": "code",
   "execution_count": null,
   "metadata": {
    "scrolled": false
   },
   "outputs": [],
   "source": [
    "df.to_numpy()"
   ]
  },
  {
   "cell_type": "markdown",
   "metadata": {},
   "source": [
    "* This method is now preferred over using the `.values` attribute\n",
    "  - In particular, gives better handling of data types and missing values\n",
    "* Note that it still returns a *lowest common denominator*, upcasting if necessary"
   ]
  },
  {
   "cell_type": "code",
   "execution_count": null,
   "metadata": {},
   "outputs": [],
   "source": [
    "arr2 = df.drop('Class', axis=1, inplace=False).to_numpy()\n",
    "print(arr2)\n",
    "print(arr2.dtype)"
   ]
  },
  {
   "cell_type": "code",
   "execution_count": null,
   "metadata": {
    "colab": {},
    "colab_type": "code",
    "id": "09z9HLg3cjDT",
    "scrolled": true
   },
   "outputs": [],
   "source": [
    "help(df.applymap)"
   ]
  },
  {
   "cell_type": "code",
   "execution_count": null,
   "metadata": {
    "colab": {},
    "colab_type": "code",
    "id": "lDCrzFkncjDZ"
   },
   "outputs": [],
   "source": [
    "am = df.loc[:, ['Sepal-Length']].applymap(lambda x: x + 10)\n",
    "am"
   ]
  },
  {
   "cell_type": "markdown",
   "metadata": {
    "colab_type": "text",
    "id": "Hj7LTX61cjDd"
   },
   "source": [
    "* `df.loc[:, ['Sepal-Length']]` creates a new DataFrame\n",
    "  - The `[ ]` around the column name is required, otherwise a *Series* is created and `.applymap` is not defined for *Series*"
   ]
  },
  {
   "cell_type": "code",
   "execution_count": null,
   "metadata": {
    "colab": {},
    "colab_type": "code",
    "id": "urhcigXOcjDf"
   },
   "outputs": [],
   "source": [
    "help(df['Class'].map)"
   ]
  },
  {
   "cell_type": "markdown",
   "metadata": {},
   "source": [
    "`.map()` is only defined for *Series*, but it is frequently used in combination with *DataFrame* in analytical situations where data need to be encoded."
   ]
  },
  {
   "cell_type": "code",
   "execution_count": null,
   "metadata": {},
   "outputs": [],
   "source": [
    "df['Class']"
   ]
  },
  {
   "cell_type": "code",
   "execution_count": null,
   "metadata": {
    "colab": {},
    "colab_type": "code",
    "id": "9G92JXBqcjDt"
   },
   "outputs": [],
   "source": [
    "an = df['Class'].map({\\\n",
    "    'Iris-setosa': 0,\\\n",
    "    'Iris-versicolor': 1,\\\n",
    "    'Iris-virginica': 2})\n",
    "an"
   ]
  },
  {
   "cell_type": "code",
   "execution_count": null,
   "metadata": {
    "colab": {},
    "colab_type": "code",
    "id": "hYeZobEMcjD2",
    "scrolled": true
   },
   "outputs": [],
   "source": [
    "df['Class'] = an\n",
    "df"
   ]
  },
  {
   "cell_type": "markdown",
   "metadata": {
    "colab_type": "text",
    "id": "3s-u3wVmcjD8"
   },
   "source": [
    "# End of Notebook"
   ]
  }
 ],
 "metadata": {
  "colab": {
   "include_colab_link": true,
   "name": "03-04-DataFrame-Methods-and-Attributes.ipynb",
   "provenance": []
  },
  "kernelspec": {
   "display_name": "Python 3 (ipykernel)",
   "language": "python",
   "name": "python3"
  },
  "language_info": {
   "codemirror_mode": {
    "name": "ipython",
    "version": 3
   },
   "file_extension": ".py",
   "mimetype": "text/x-python",
   "name": "python",
   "nbconvert_exporter": "python",
   "pygments_lexer": "ipython3",
   "version": "3.8.16"
  }
 },
 "nbformat": 4,
 "nbformat_minor": 1
}
