{
 "cells": [
  {
   "cell_type": "markdown",
   "metadata": {
    "colab_type": "text",
    "id": "H3G4kxfebf7o"
   },
   "source": [
    "# Introduction to Panda DataFrame"
   ]
  },
  {
   "cell_type": "code",
   "execution_count": null,
   "metadata": {
    "colab": {},
    "colab_type": "code",
    "id": "l5L7paeabf7s"
   },
   "outputs": [],
   "source": [
    "import numpy as np\n",
    "import pandas as pd"
   ]
  },
  {
   "cell_type": "markdown",
   "metadata": {
    "colab_type": "text",
    "id": "AHaw_zULbf7w"
   },
   "source": [
    "Execute the cell below"
   ]
  },
  {
   "cell_type": "code",
   "execution_count": null,
   "metadata": {
    "colab": {},
    "colab_type": "code",
    "id": "hYHHVjhKbf7x",
    "outputId": "2393fe41-3725-476d-b979-ab273a3745df"
   },
   "outputs": [],
   "source": [
    "df= pd.read_csv('./iris-data-index-column.csv', index_col=0, header=0)\n",
    "print(df)"
   ]
  },
  {
   "cell_type": "markdown",
   "metadata": {
    "colab_type": "text",
    "id": "mx_gnrC5bf71"
   },
   "source": [
    "- You can think of a DataFrame as a spreadsheet \n",
    "- Each column is stored as a separate Panda series\n",
    "- All the series share an index (in the example, this is d1, a1, ...)\n",
    "- There are many ways to set up the index and the column name (Sepal-Length, Sepal-Width...)\n",
    "- Floats are stored as float64, integers are stored as int64 and strings are stored as objects"
   ]
  },
  {
   "cell_type": "code",
   "execution_count": null,
   "metadata": {},
   "outputs": [],
   "source": [
    "df.dtypes"
   ]
  },
  {
   "cell_type": "markdown",
   "metadata": {
    "colab_type": "text",
    "id": "mx_gnrC5bf71"
   },
   "source": [
    "Execute the cell below to see the documentation for DataFrame"
   ]
  },
  {
   "cell_type": "code",
   "execution_count": null,
   "metadata": {
    "colab": {},
    "colab_type": "code",
    "id": "mXz370IZbf72",
    "outputId": "69d7cdf1-1c7f-475e-fec8-1bd1711e6bc4",
    "scrolled": false
   },
   "outputs": [],
   "source": [
    "help(pd.DataFrame)"
   ]
  },
  {
   "cell_type": "markdown",
   "metadata": {
    "colab_type": "text",
    "id": "m7wldwt6bf79"
   },
   "source": [
    "# Getting the Data"
   ]
  },
  {
   "cell_type": "markdown",
   "metadata": {
    "colab_type": "text",
    "id": "jDUuGzRbbf7-"
   },
   "source": [
    "## Checking for data\n",
    "\n",
    "For the purpose of this notebook, we will be working with an extract from the standard \"Iris\" dataset. This dataset is often used when working with categorisation-type AI applications.\n",
    "\n",
    "Execute the next cell to see what iris data files are available. You should see:\n",
    "\n",
    "    1. iris-data.csv,\n",
    "    2. iris-data-column.csv\n",
    "    3. iris-data-index-column.csv\n",
    "    4. iris-data.txt"
   ]
  },
  {
   "cell_type": "code",
   "execution_count": null,
   "metadata": {
    "colab": {},
    "colab_type": "code",
    "id": "8bU8qFUAbf7_",
    "outputId": "554003de-9c3e-4f93-861b-9a24ff1c24c4"
   },
   "outputs": [],
   "source": [
    "%ls -l iris*"
   ]
  },
  {
   "cell_type": "markdown",
   "metadata": {
    "colab_type": "text",
    "id": "08Y622ECbf8C"
   },
   "source": [
    "## Examining the data\n",
    "\n",
    "In the three cells below, we use the `%less` magic command to examine the iris data files"
   ]
  },
  {
   "cell_type": "code",
   "execution_count": null,
   "metadata": {
    "colab": {},
    "colab_type": "code",
    "id": "yK6cgSX0bf8P"
   },
   "outputs": [],
   "source": [
    "%less iris-data.csv "
   ]
  },
  {
   "cell_type": "markdown",
   "metadata": {
    "colab_type": "text",
    "id": "mVZxd6R5bf8T"
   },
   "source": [
    "This is an extract from the original raw data set. We have chosen a small extract so that the output can easily be seen."
   ]
  },
  {
   "cell_type": "code",
   "execution_count": null,
   "metadata": {
    "colab": {},
    "colab_type": "code",
    "id": "U0Ke95LEbf8D",
    "outputId": "bf0890f9-e4c9-4f7c-a0cb-a39c1e2dd7d2"
   },
   "outputs": [],
   "source": [
    "%less iris-data-column.csv"
   ]
  },
  {
   "cell_type": "markdown",
   "metadata": {
    "colab_type": "text",
    "id": "1FOsbD1Xbf8H"
   },
   "source": [
    "In this version of the file, we have added an initial line of column names."
   ]
  },
  {
   "cell_type": "code",
   "execution_count": null,
   "metadata": {
    "colab": {},
    "colab_type": "code",
    "id": "HP-z1Djlbf8I"
   },
   "outputs": [],
   "source": [
    "%less iris-data-index-column.csv"
   ]
  },
  {
   "cell_type": "markdown",
   "metadata": {},
   "source": [
    "And, finally, in this file we also added a column to show how to control the index\n",
    "- Notice the column label row starts with a comma (,) to show the first column is the index column\n",
    "- The index column (d1, a1, ...) does not have a name in the header\n",
    "\n",
    "We don't look at `iris-data.txt`, but this is a description of the full data set.\n",
    "\n",
    "The command to read data from a csv fle is `pd.read_csv`. \n",
    "- Look at all of the parameters for a minute. Then continue on in this notebook."
   ]
  },
  {
   "cell_type": "code",
   "execution_count": null,
   "metadata": {
    "colab": {},
    "colab_type": "code",
    "id": "ulvvcyNwbf8V"
   },
   "outputs": [],
   "source": [
    "help(pd.read_csv)"
   ]
  },
  {
   "cell_type": "code",
   "execution_count": null,
   "metadata": {
    "colab": {},
    "colab_type": "code",
    "id": "FVry7ZDNbf8b"
   },
   "outputs": [],
   "source": [
    "raw_df = pd.read_csv('./iris-data.csv', header=None)\n",
    "print(raw_df)"
   ]
  },
  {
   "cell_type": "markdown",
   "metadata": {
    "colab_type": "text",
    "id": "wWsu9dM7bf8g"
   },
   "source": [
    "If you do not include the keyword option `header=<row index>` then the first line is taken as the header line and made the column headings.\n",
    "\n",
    "  * `header=None`\n",
    "    - Columns are numbered starting a 0\n",
    "    - Or you can name them using the keyword attribute `names=<list of column names>`\n",
    "  * `header=0`\n",
    "    - First row (counting starts at 0) is the headers) \n",
    "\n",
    "Even if you don't name the columns on import, you can easily change them at will\n",
    "- The column names are stored as an Index in the DataFrame."
   ]
  },
  {
   "cell_type": "code",
   "execution_count": null,
   "metadata": {
    "colab": {},
    "colab_type": "code",
    "id": "3kl4Jw-Lbf8i",
    "scrolled": true
   },
   "outputs": [],
   "source": [
    "raw_df.columns = ['Sepal-Length', 'Sepal-Width','Petal-Length','Petal-Width', 'Class']\n",
    "print(raw_df)\n",
    "print(type(raw_df.columns))"
   ]
  },
  {
   "cell_type": "markdown",
   "metadata": {
    "colab_type": "text",
    "id": "6SKm9-brbf8l"
   },
   "source": [
    "If there is an index column you must specify it.  This is done with the keyword `index_col=<column number>`. This is not done very often. \n",
    "\n",
    "The column is stored as an Index. In the DataFrame below I am using the Index as a way to say who the collector of the data was.\n",
    "\n",
    "Execute the cell below."
   ]
  },
  {
   "cell_type": "code",
   "execution_count": null,
   "metadata": {
    "colab": {},
    "colab_type": "code",
    "id": "McIQt2EHbf8m"
   },
   "outputs": [],
   "source": [
    "df= pd.read_csv('./iris-data-index-column.csv', index_col=0, header=0)\n",
    "print(df)\n",
    "print(type(df.index))"
   ]
  },
  {
   "cell_type": "markdown",
   "metadata": {
    "colab_type": "text",
    "id": "9RfcMpabbf8p"
   },
   "source": [
    "You can change the index labels.\n",
    "\n",
    "Execute the cell below."
   ]
  },
  {
   "cell_type": "code",
   "execution_count": null,
   "metadata": {
    "colab": {},
    "colab_type": "code",
    "id": "ieBK7nSpbf8q"
   },
   "outputs": [],
   "source": [
    "df.index = [1, 2, 3, 4, 5, 6]\n",
    "print(df)"
   ]
  },
  {
   "cell_type": "markdown",
   "metadata": {
    "colab_type": "text",
    "id": "TVup65Btbf8u"
   },
   "source": [
    "## Saving a DataFrame as a CSV file\n",
    "\n",
    "To save a DataFrame to a CSV file, use `.to_csv`"
   ]
  },
  {
   "cell_type": "code",
   "execution_count": null,
   "metadata": {
    "colab": {},
    "colab_type": "code",
    "id": "FjcOxL0lbf8v"
   },
   "outputs": [],
   "source": [
    "help(df.to_csv)"
   ]
  },
  {
   "cell_type": "code",
   "execution_count": null,
   "metadata": {
    "colab": {},
    "colab_type": "code",
    "id": "qU1_f1Nubf82"
   },
   "outputs": [],
   "source": [
    "df.to_csv(\"./saved_iris.csv\")"
   ]
  },
  {
   "cell_type": "code",
   "execution_count": null,
   "metadata": {
    "colab": {},
    "colab_type": "code",
    "id": "8sjF85v8bf85"
   },
   "outputs": [],
   "source": [
    "%less saved_iris.csv"
   ]
  },
  {
   "cell_type": "markdown",
   "metadata": {
    "colab_type": "text",
    "id": "o_VrZmMcbf88"
   },
   "source": [
    "* Index\n",
    "    - To write out the index, add the keyword `index=True`\n",
    "    - Otherwise leave out keyword\n",
    "* Header\n",
    "    - Use `header=False` if no column labels are to be saved \n",
    "    - Use `header=True` if column labels are to be saved\n",
    "    - Use `header=<list of column names>` to write out different set of column names\n",
    "* Column\n",
    "    - Use `column=<list of column names>` to write out only the selected columns"
   ]
  },
  {
   "cell_type": "markdown",
   "metadata": {
    "colab_type": "text",
    "id": "o0vxGTGJbf8_"
   },
   "source": [
    "There are multiple other ways to create a DataFrame. \n",
    "\n",
    "See [Dataframe](http://pandas.pydata.org/pandas-docs/stable/dsintro.html#dataframe)"
   ]
  },
  {
   "cell_type": "markdown",
   "metadata": {
    "colab_type": "text",
    "id": "XMBEp0z-bf9A"
   },
   "source": [
    "# End of Notebook"
   ]
  }
 ],
 "metadata": {
  "colab": {
   "include_colab_link": true,
   "name": "03-01-Introduction-IO.ipynb",
   "provenance": []
  },
  "kernelspec": {
   "display_name": "Python 3 (ipykernel)",
   "language": "python",
   "name": "python3"
  },
  "language_info": {
   "codemirror_mode": {
    "name": "ipython",
    "version": 3
   },
   "file_extension": ".py",
   "mimetype": "text/x-python",
   "name": "python",
   "nbconvert_exporter": "python",
   "pygments_lexer": "ipython3",
   "version": "3.8.16"
  }
 },
 "nbformat": 4,
 "nbformat_minor": 1
}
