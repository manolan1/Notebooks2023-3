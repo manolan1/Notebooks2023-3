{
 "cells": [
  {
   "cell_type": "markdown",
   "metadata": {
    "colab_type": "text",
    "id": "25S7sKIUxBZs"
   },
   "source": [
    "# Creating Arrays"
   ]
  },
  {
   "cell_type": "markdown",
   "metadata": {
    "colab_type": "text",
    "id": "MXEp38knxBZv"
   },
   "source": [
    "## Using the *array* Function to Create *ndarrays*\n",
    "* Although it is possible to create an *ndarray* instance using *\\_\\_new\\_\\_()*, it is not the recommended approach\n",
    "* The factory methods `array`, `zeros`, `ones`, and `empty` are preferred\n",
    "\n",
    "### Do Now!\n",
    "* Import numpy\n",
    "* View the doc string of the numpy `array` function"
   ]
  },
  {
   "cell_type": "code",
   "execution_count": null,
   "metadata": {
    "colab": {},
    "colab_type": "code",
    "id": "3F0Wt8T2xBZx"
   },
   "outputs": [],
   "source": [
    "import numpy as np"
   ]
  },
  {
   "cell_type": "code",
   "execution_count": null,
   "metadata": {
    "colab": {},
    "colab_type": "code",
    "id": "KVMSnFHAxBZ2",
    "scrolled": false
   },
   "outputs": [],
   "source": [
    "help(np.array)"
   ]
  },
  {
   "cell_type": "markdown",
   "metadata": {
    "colab_type": "text",
    "id": "9cT9JCGoxBZ9"
   },
   "source": [
    "* The *array* function signature is:\n",
    "\n",
    "  `array(object, dtype=None, copy=True, order='K', subok=False, ndmin=0)`\n",
    "\n",
    "\n",
    "  * *object* is `array_like` (e.g. list, tuple, etc)\n",
    "  * If *dtype* is not given, how is the type determined?\n",
    "  * Is the original object copied by default?\n",
    "  * What is the default order of the new *ndarray*?\n",
    "\n",
    "### Do Now!\n",
    "* Create a 5 element list of integers (try this with differing sizes)\n",
    "  * Print the list\n",
    "  * Create a one-dimensional array from the list\n",
    "  * Print the array\n",
    "  * Print the data type of the array. How does that differ with different integers?\n",
    "* Try the same with a 5 element list of floating point numbers\n",
    "  * How can you make a floating point array have a particular data type?"
   ]
  },
  {
   "cell_type": "code",
   "execution_count": null,
   "metadata": {},
   "outputs": [],
   "source": [
    "list1 = [2**5 for x in range(5)]\n",
    "print('list1 =', list1)\n",
    "array1 = np.array(list1)\n",
    "print('array1 =', array1)\n",
    "array1.dtype"
   ]
  },
  {
   "cell_type": "code",
   "execution_count": null,
   "metadata": {},
   "outputs": [],
   "source": [
    "list2 = [2**35 for x in range(5)]\n",
    "print('list2 =', list2)\n",
    "array2 = np.array(list2)\n",
    "print('array2 =', array2)\n",
    "array2.dtype"
   ]
  },
  {
   "cell_type": "code",
   "execution_count": null,
   "metadata": {},
   "outputs": [],
   "source": [
    "list3 = [2**65 for x in range(5)]\n",
    "print('list3 =', list3)\n",
    "array3 = np.array(list3)\n",
    "print('array3 =', array3)\n",
    "array3.dtype # print(array3.dtype) may make this value clearer"
   ]
  },
  {
   "cell_type": "code",
   "execution_count": null,
   "metadata": {},
   "outputs": [],
   "source": [
    "list4 = [2.0**5 for x in range(5)]\n",
    "print('list1 =', list4)\n",
    "array4 = np.array(list4)\n",
    "print('array4 =', array4)\n",
    "array4.dtype"
   ]
  },
  {
   "cell_type": "code",
   "execution_count": null,
   "metadata": {},
   "outputs": [],
   "source": [
    "list5 = [2.0**5 for x in range(5)]\n",
    "print('list5 =', list5)\n",
    "array5 = np.array(list5, dtype='float16')\n",
    "print('array5 =', array5)\n",
    "array5.dtype"
   ]
  },
  {
   "cell_type": "code",
   "execution_count": null,
   "metadata": {},
   "outputs": [],
   "source": [
    "np.ScalarType"
   ]
  },
  {
   "cell_type": "markdown",
   "metadata": {
    "colab_type": "text",
    "id": "oHSO2uYkxBaW"
   },
   "source": [
    "## Other Ways to Create Arrays\n",
    "\n",
    "There are a number of other ways to create an array, including, for example `asarray`, `ones`, `zeros`."
   ]
  },
  {
   "cell_type": "code",
   "execution_count": null,
   "metadata": {
    "colab": {},
    "colab_type": "code",
    "id": "ILgdrVjPxBad"
   },
   "outputs": [],
   "source": [
    "help(np.asarray)"
   ]
  },
  {
   "cell_type": "markdown",
   "metadata": {
    "colab_type": "text",
    "id": "UfZFSY6_xBbL"
   },
   "source": [
    "### Using *ones* And *zeros* Function to Create *ndarrays*\n",
    "* These functions, as their names suggest, create an *ndarray* containing all ones or all zeros\n",
    "* Unlike the *array* function, they don't take source data\n",
    "  * Instead, they include a *shape* parameter for specifying the dimensions of the created *ndarray*\n"
   ]
  },
  {
   "cell_type": "code",
   "execution_count": null,
   "metadata": {
    "colab": {},
    "colab_type": "code",
    "id": "0f6ikTJVxBbG"
   },
   "outputs": [],
   "source": [
    "x1 = np.ones((2, 3, 4, 5))\n",
    "print(x1.dtype)\n",
    "x1"
   ]
  },
  {
   "cell_type": "code",
   "execution_count": null,
   "metadata": {},
   "outputs": [],
   "source": [
    "help(np.ones)"
   ]
  },
  {
   "cell_type": "code",
   "execution_count": null,
   "metadata": {
    "colab": {},
    "colab_type": "code",
    "id": "toJ6OjONxBbR"
   },
   "outputs": [],
   "source": [
    "z1 = np.zeros(5, dtype='int32')\n",
    "print(z1.dtype)\n",
    "print(\"z1 = \", z1)\n",
    "\n",
    "z2 = np.zeros((5, 7))\n",
    "print(z2.dtype)\n",
    "print(\"z2 = \", z2)"
   ]
  },
  {
   "cell_type": "code",
   "execution_count": null,
   "metadata": {
    "colab": {},
    "colab_type": "code",
    "id": "u0D6qN0qxBbN"
   },
   "outputs": [],
   "source": [
    "help(np.zeros)"
   ]
  },
  {
   "cell_type": "markdown",
   "metadata": {},
   "source": [
    "`ones` and `zeros` are special cases of the function `full`"
   ]
  },
  {
   "cell_type": "code",
   "execution_count": null,
   "metadata": {
    "scrolled": false
   },
   "outputs": [],
   "source": [
    "f1 = np.full((2, 3), 1.5)\n",
    "f1"
   ]
  },
  {
   "cell_type": "code",
   "execution_count": null,
   "metadata": {},
   "outputs": [],
   "source": [
    "f2 = np.full((3, 3), (1, 2, 3))\n",
    "f2"
   ]
  },
  {
   "cell_type": "code",
   "execution_count": null,
   "metadata": {},
   "outputs": [],
   "source": [
    "help(np.full)"
   ]
  },
  {
   "cell_type": "markdown",
   "metadata": {
    "colab_type": "text",
    "id": "1n2cnw-exBbg"
   },
   "source": [
    "### *np.arange*\n",
    "* View the doc string for *np.arange*\n",
    "* Print out an *ndarray* with elements rainging from 5 to 25 with a step of 4"
   ]
  },
  {
   "cell_type": "code",
   "execution_count": null,
   "metadata": {
    "colab": {},
    "colab_type": "code",
    "id": "zPBXte8zxBbh",
    "scrolled": false
   },
   "outputs": [],
   "source": [
    "help(np.arange)"
   ]
  },
  {
   "cell_type": "code",
   "execution_count": null,
   "metadata": {
    "colab": {},
    "colab_type": "code",
    "id": "VXgJu2laxBbm",
    "scrolled": false
   },
   "outputs": [],
   "source": [
    "print (\"arange array =\", np.arange(5, 25, 4))"
   ]
  },
  {
   "cell_type": "markdown",
   "metadata": {
    "colab_type": "text",
    "id": "23oMPBkdxBbw"
   },
   "source": [
    "### *np.linspace*\n",
    "* View the doc string for *np.linspace*\n",
    "* Print an array of 50 numbers spaced over the interval 1 to 25"
   ]
  },
  {
   "cell_type": "code",
   "execution_count": null,
   "metadata": {
    "colab": {},
    "colab_type": "code",
    "id": "fcyxk6S6xBbz",
    "scrolled": false
   },
   "outputs": [],
   "source": [
    "help(np.linspace)"
   ]
  },
  {
   "cell_type": "code",
   "execution_count": null,
   "metadata": {
    "colab": {},
    "colab_type": "code",
    "id": "xN6COUyYxBb2",
    "scrolled": true
   },
   "outputs": [],
   "source": [
    "print (\"Evenly spaced array =\", np.linspace(1, 25))"
   ]
  },
  {
   "cell_type": "markdown",
   "metadata": {
    "colab_type": "text",
    "id": "tZOHbBRqxBbA"
   },
   "source": [
    "## Useful *ndarray* Attributes\n",
    "\n",
    "* Create a new list of 5 tuples with each tuple containing an integer and float\n",
    "* Print the list\n",
    "* Is the list a nested sequence?\n",
    "* Create a new *ndarray* from the list\n",
    "* Print the array\n",
    "* Print the number of elements in the array\n",
    "* Print the data type of the elements\n",
    "  * Note that the integers in the original list have been up-casted to float\n",
    "* Print the size of each array element\n",
    "* Print the number of bytes used to store the array data\n",
    "* Print the number of dimensions of the array\n",
    "* Print the shape of the array (list of dimension sizes)\n",
    "* Print the strides of the array (number of bytes to step over an element in each direction)\n",
    "* Print memory use information"
   ]
  },
  {
   "cell_type": "code",
   "execution_count": null,
   "metadata": {
    "colab": {},
    "colab_type": "code",
    "id": "3v6auOLDxBbD",
    "scrolled": true
   },
   "outputs": [],
   "source": [
    "mixed_list = [(2 ** 54, 4.242 ** 10) for i in range(5)]\n",
    "print (\"mixed_list =\", mixed_list)\n",
    "\n",
    "as_an_array = np.array(mixed_list)\n",
    "print(\"as_an_array =\", as_an_array)\n",
    "\n",
    "print (\"Number of elements, as_an_array.size = \", as_an_array.size)\n",
    "print (\"Data type of elements, as_an_array.dtype =\", as_an_array.dtype)\n",
    "print (\"Size of the array elements, as_an_array.itemsize = \", as_an_array.itemsize)\n",
    "print (\"Total number of bytes used to store array data, as_an_array.nbytes = \", as_an_array.nbytes)\n",
    "print (\"Number of dimensions, as_an_array.ndim =\", a2.ndim)\n",
    "print (\"Shape of the array, as_an_array.shape = \", as_an_array.shape, \" ==>  a\", as_an_array.shape[0], \"x\", as_an_array.shape[1])\n",
    "print (\"Strides of the array = \", as_an_array.strides)\n",
    "print (\"Memory use information = \", as_an_array.flags)"
   ]
  },
  {
   "cell_type": "markdown",
   "metadata": {},
   "source": [
    "You can investigate these attributes in more detail"
   ]
  },
  {
   "cell_type": "code",
   "execution_count": null,
   "metadata": {
    "scrolled": true
   },
   "outputs": [],
   "source": [
    "help(np.ndarray.ndim)"
   ]
  },
  {
   "cell_type": "code",
   "execution_count": null,
   "metadata": {},
   "outputs": [],
   "source": [
    "help(np.ndarray.shape)"
   ]
  },
  {
   "cell_type": "markdown",
   "metadata": {
    "colab_type": "text",
    "id": "hWa5m_XfxBb5"
   },
   "source": [
    "# End of Notebook"
   ]
  }
 ],
 "metadata": {
  "anaconda-cloud": {},
  "colab": {
   "include_colab_link": true,
   "name": "02-02-NumPy-Creating_Arrays.ipynb",
   "provenance": []
  },
  "kernelspec": {
   "display_name": "Python 3 (ipykernel)",
   "language": "python",
   "name": "python3"
  },
  "language_info": {
   "codemirror_mode": {
    "name": "ipython",
    "version": 3
   },
   "file_extension": ".py",
   "mimetype": "text/x-python",
   "name": "python",
   "nbconvert_exporter": "python",
   "pygments_lexer": "ipython3",
   "version": "3.8.16"
  }
 },
 "nbformat": 4,
 "nbformat_minor": 1
}
