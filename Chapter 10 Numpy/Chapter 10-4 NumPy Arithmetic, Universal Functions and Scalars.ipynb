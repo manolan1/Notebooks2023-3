{
 "cells": [
  {
   "cell_type": "markdown",
   "metadata": {
    "colab_type": "text",
    "id": "vysFmfsdW5ob"
   },
   "source": [
    "# Arithmetic with *ndarray*s"
   ]
  },
  {
   "cell_type": "code",
   "execution_count": null,
   "metadata": {
    "colab": {},
    "colab_type": "code",
    "id": "BjbB6ys4W5ok"
   },
   "outputs": [],
   "source": [
    "import numpy as np"
   ]
  },
  {
   "cell_type": "markdown",
   "metadata": {
    "colab_type": "text",
    "id": "84euHE9rW5oi"
   },
   "source": [
    "## Arithmetic between an *ndarray* and a Scalar\n",
    "\n",
    "When the operands of arithmetic operators are an *ndarray* and a scalar, the operation is applied between the scalar and each element of the *ndarray* individually\n",
    "<br>\n",
    "\n",
    "* Create an *ndarray*, a1, of 10 integers ranging from 1 to 10 and print the array a1\n",
    "* Create a new *ndarray*, a2, which is the sum a1 + 1 and print the array a2\n",
    "* Create a new *ndarray*, a3, which is a2 multiplied by 9 and print the array a3\n",
    "* Create a new *ndarray*, a4, which is a3 divided by 3 and print the array a4\n",
    "* Create a new *ndarray*, a5, which is a4 squared and print the array a5"
   ]
  },
  {
   "cell_type": "code",
   "execution_count": null,
   "metadata": {
    "colab": {},
    "colab_type": "code",
    "id": "FoG1yJ4lW5oo"
   },
   "outputs": [],
   "source": [
    "a1 = np.arange(1,11)\n",
    "print (\"a1 = \", a1)\n",
    "a2 = a1 + 1\n",
    "print (\"a2 = \", a2)\n",
    "a3 = a2 * 9\n",
    "print (\"a3 = \", a3)\n",
    "a4 = a3 / 3\n",
    "print (\"a4 = \", a4)\n",
    "a5 = a4 ** 2\n",
    "print (\"a5 = \", a5)"
   ]
  },
  {
   "cell_type": "markdown",
   "metadata": {
    "colab_type": "text",
    "id": "0TqJI-WKW5os"
   },
   "source": [
    "## Universal Functions\n",
    "* These operations are examples of universal functions\n",
    "* Universal functions, also known as *ufuncs*, operate on *ndarray*s  in an element by element fashion\n",
    "<br>\n",
    "<br>\n",
    "* View the [Universal Functions](https://docs.scipy.org/doc/numpy/reference/ufuncs.html) page\n",
    "  * What is a **vectorized** function? \\_\\_\\_\\_\\_\\_\\_\\_\\_\\_\\_\\_\\_\\_\\_\\_\\_\\_\\_\\_\\_\\_\\_\\_\\_\\_\\_\\_\\_\\_\\_\\_\\_\n",
    "  * What language are most unfuncs implemented in? \\_\\_\\_\\_\\_\\_\\_\\_\\_\\_\\_\\_\\_\\_\\_\\_\\_\\_\\_\\_\\_\\_\\_\\_\\_\\_\\_"
   ]
  },
  {
   "cell_type": "markdown",
   "metadata": {
    "colab_type": "text",
    "id": "1JZoVXlQW5ou"
   },
   "source": [
    "## Arithmetic with two *ndarray*s\n",
    "\n",
    "When the operands of arithmetc operators are two *ndarray*s, the operation is applied element-wise between the individual elements of the *ndarray*s\n",
    "* The NumPy arithmetic operations are much faster than the  built-in Python operators\n",
    "  * Use the iPython magic function *timeit* to measure their performance\n",
    "* Exceptions will be raised if there are shape mismatches\n",
    "<br>\n",
    "\n",
    "* Using the *full* function, create and print a 3x3 *ndarray*, a1, populated with 2.0\n",
    "* Using the *full* function, create and print a second 3x3 *ndarray*, a2, populated with 3.0\n",
    "* Create a new *ndarray*, a3, which is a1 + a2 and print the array a3\n",
    "* Create a new *ndarray*, a4, which is a1 - a2 and print the array a4\n",
    "* Create a new *ndarray*, a5, which is a1 * a2 and print the array a5\n",
    "* Create a new *ndarray*, a6, which is a1 / a2 and print the array a6\n",
    "* Create a new *ndarray*, a7, which is a1 \\*\\* a2 and print the array a7\n",
    "* Measure the performance of 10000 integer additions using the Python built-in addition operator\n",
    "* Measure the performance of 10000 integer additions using the NumPy addition operator"
   ]
  },
  {
   "cell_type": "code",
   "execution_count": null,
   "metadata": {
    "colab": {},
    "colab_type": "code",
    "id": "VUg3zctPW5ov"
   },
   "outputs": [],
   "source": [
    "a1 = np.full((3, 3), 2.0)\n",
    "print(\"a1 = \\n\", a1)\n",
    "\n",
    "a2 = np.full((3, 3), 3.0)\n",
    "print(\"a2 = \\n\", a2)\n",
    "\n",
    "a3 = a1 + a2\n",
    "print(\"a3 = \\n\", a3)\n",
    "\n",
    "a4 = a1 - a2\n",
    "print(\"a4 = \\n\", a4)\n",
    "\n",
    "a5 = a1 * a2\n",
    "print(\"a5 = \\n\", a5)\n",
    "\n",
    "a6 = a1 / a2\n",
    "print(\"a6 = \\n\", a6)\n",
    "\n",
    "a7 = a1 ** a2\n",
    "print(\"a7 = \\n\", a7)\n",
    "\n"
   ]
  },
  {
   "cell_type": "code",
   "execution_count": null,
   "metadata": {},
   "outputs": [],
   "source": [
    "def add_py_list(lim):\n",
    "    x = list(range(lim))\n",
    "    return [a + 1 for a in x]\n",
    "\n",
    "%timeit x = add_py_list(10000)\n",
    "\n",
    "def add_py_array(lim):\n",
    "    x = np.arange(1, lim + 1)\n",
    "    for i in range(lim):\n",
    "        x[i] += 1\n",
    "    return x\n",
    "\n",
    "%timeit x = add_py_list(10000)\n",
    "\n",
    "def add_np_array(lim):\n",
    "    x = np.arange(1, lim + 1)\n",
    "    return x + 1\n",
    "\n",
    "%timeit x = add_np_array(10000)"
   ]
  },
  {
   "cell_type": "markdown",
   "metadata": {
    "colab_type": "text",
    "id": "UcFli_L5W5oz"
   },
   "source": [
    "## Broadcasting\n",
    "- Broadcasting is the mechanism by which *ufuncs* operate between arrays of different sizes\n",
    "  - Applying a scalar is a special case of these rules\n",
    "<br>\n",
    "\n",
    "- Using the *full* function, create and print a 4x4 *ndarray*, a1, populated with 2.0\n",
    "- Create and print a 1x4 *ndarray*, a2, of integers ranging from 1 to 4 and print the array\n",
    "- Create and print a new *ndarray*, a3, which is a1 * a2\n",
    "  - Is this matrix multiplication?\n",
    "  - Is this element by element multiplication?\n",
    "  - What is happening?\n",
    "  - What will happen if a2 is a 1x3 array?"
   ]
  },
  {
   "cell_type": "code",
   "execution_count": null,
   "metadata": {
    "colab": {},
    "colab_type": "code",
    "id": "LcTdnpHAW5o0",
    "scrolled": true
   },
   "outputs": [],
   "source": [
    "a1 = np.full((4, 4), 2.0)\n",
    "print(\"a1 =\\n\", a1)\n",
    "\n",
    "a2 = np.arange(1, 5)\n",
    "print(\"a2 =\\n\", a2)\n",
    "\n",
    "a3 = a1 * a2\n",
    "print(\"a3 = a1 * a2 =\\n\", a3)"
   ]
  },
  {
   "cell_type": "code",
   "execution_count": null,
   "metadata": {},
   "outputs": [],
   "source": [
    "a2 = np.arange(1, 4)\n",
    "print(\"a2 =\\n\", a2)\n",
    "\n",
    "a3 = a1 * a2\n",
    "print(\"a3 = a1 * a2 =\\n\", a3)"
   ]
  },
  {
   "cell_type": "markdown",
   "metadata": {
    "colab_type": "text",
    "id": "kvvQCe6NW5o3"
   },
   "source": [
    "## Matrix multiplication with *ndarray*s\n",
    "* Remember that multiplication of two *ndarrray*s with the `*` operator is element-wise multiplication, not matrix multiplication\n",
    "* To perform matrix multiplication, use the np.dot function\n",
    "  * In later versions of Python, can also use `@` operator, which is preferred\n",
    "* Exceptions will be raised if there are shape mismatches\n",
    "<br>\n",
    "\n",
    "* View the doc string for the np.dot function"
   ]
  },
  {
   "cell_type": "code",
   "execution_count": null,
   "metadata": {
    "colab": {},
    "colab_type": "code",
    "id": "CxS3rc93W5o4"
   },
   "outputs": [],
   "source": [
    "help(np.dot)"
   ]
  },
  {
   "cell_type": "markdown",
   "metadata": {
    "colab_type": "text",
    "id": "otYTgKUkW5o8"
   },
   "source": [
    "* Using the *full* function, create (and print) a 3x3 *ndarray*, a1, populated with 2.0\n",
    "* Using the *full* function, create (and print) a second 3x3 *ndarray*, a2, populated with 3.0\n",
    "* Create (and print) a new *ndarray*, a3, which is the matrix product of a1 and a2"
   ]
  },
  {
   "cell_type": "code",
   "execution_count": null,
   "metadata": {
    "colab": {},
    "colab_type": "code",
    "id": "6zuzTxnxW5o9"
   },
   "outputs": [],
   "source": [
    "a1 = np.full((3, 3), 2.0)\n",
    "print(\"a1 = \\n\", a1)\n",
    "\n",
    "a2 = np.full((3, 3), 3.0)\n",
    "print(\"a2 = \\n\", a2)\n",
    "\n",
    "a3 = a1 @ a2\n",
    "print(\"a3 = \\n\", a3)"
   ]
  },
  {
   "cell_type": "markdown",
   "metadata": {},
   "source": [
    "- Repeat the operation using two matrices of different dimensions that are compatible for matrix arithmetic."
   ]
  },
  {
   "cell_type": "code",
   "execution_count": null,
   "metadata": {},
   "outputs": [],
   "source": [
    "a1 = np.full((2, 3), 2.0)\n",
    "print(\"a1 = \\n\", a1)\n",
    "\n",
    "a2 = np.full((3, 2), 3.0)\n",
    "print(\"a2 = \\n\", a2)\n",
    "\n",
    "a3 = a1 @ a2\n",
    "print(\"a3 = \\n\", a3)"
   ]
  },
  {
   "cell_type": "code",
   "execution_count": null,
   "metadata": {},
   "outputs": [],
   "source": [
    "a4 = a2 @ a1\n",
    "print(\"a4 = \\n\", a4)"
   ]
  },
  {
   "cell_type": "markdown",
   "metadata": {},
   "source": [
    "## Scalar Types\n",
    "\n",
    "So far, when working with scalar (i.e. non-array types), we have just worked with standard Python data types. However, as well as the *ndarray*, NumPy includes a number of scalar data types.\n",
    "\n",
    "While custom types can be created, the standard types are listed in the tuple `np.ScalarType`"
   ]
  },
  {
   "cell_type": "code",
   "execution_count": null,
   "metadata": {},
   "outputs": [],
   "source": [
    "np.ScalarType"
   ]
  },
  {
   "cell_type": "markdown",
   "metadata": {},
   "source": [
    "We can create instances of these types directly:"
   ]
  },
  {
   "cell_type": "code",
   "execution_count": null,
   "metadata": {},
   "outputs": [],
   "source": [
    "i1 = np.int64(42)\n",
    "print(i1)\n",
    "print(type(i1))\n",
    "print(i1.dtype)"
   ]
  },
  {
   "cell_type": "code",
   "execution_count": null,
   "metadata": {},
   "outputs": [],
   "source": [
    "help(np.int64)"
   ]
  },
  {
   "cell_type": "markdown",
   "metadata": {
    "colab_type": "text",
    "id": "CCm9FQB9W5pF"
   },
   "source": [
    "# End of Notebook"
   ]
  }
 ],
 "metadata": {
  "anaconda-cloud": {},
  "colab": {
   "include_colab_link": true,
   "name": "02-05-NumPy-Arithmetic_and_Universal_Functions.ipynb",
   "provenance": []
  },
  "kernelspec": {
   "display_name": "Python 3 (ipykernel)",
   "language": "python",
   "name": "python3"
  },
  "language_info": {
   "codemirror_mode": {
    "name": "ipython",
    "version": 3
   },
   "file_extension": ".py",
   "mimetype": "text/x-python",
   "name": "python",
   "nbconvert_exporter": "python",
   "pygments_lexer": "ipython3",
   "version": "3.8.16"
  }
 },
 "nbformat": 4,
 "nbformat_minor": 1
}
